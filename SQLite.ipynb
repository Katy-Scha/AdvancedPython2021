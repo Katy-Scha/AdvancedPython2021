{
 "cells": [
  {
   "cell_type": "code",
   "execution_count": 1,
   "metadata": {},
   "outputs": [],
   "source": [
    "import sqlite3\n",
    "import datetime"
   ]
  },
  {
   "cell_type": "markdown",
   "metadata": {},
   "source": [
    "Предлагается поработать со схемой базы данных: \n",
    "Book (id, author, title, publish_year)  \n",
    "Reader (id, name)  \n",
    "Record (reader_id, book_id, taking_date, returning_date)  \n",
    "\n",
    "В табличку Record можно добавить и отдельный ID. А reader_id и book_id — внешние ключи, которые ссылаются на таблицы Reader и Book соответственно.  \n",
    "1)Вывести список книг  \n",
    "2)Вывести список читателей  \n",
    "3)Добавить книгу  \n",
    "4)Добавить читателя  \n",
    "5)Выдать книгу читателю  \n",
    "6)Принять книгу  "
   ]
  },
  {
   "cell_type": "code",
   "execution_count": 2,
   "metadata": {},
   "outputs": [],
   "source": [
    "db_name = 'lib'\n",
    "connection = sqlite3.connect(db_name)\n",
    "cursor = connection.cursor()"
   ]
  },
  {
   "cell_type": "code",
   "execution_count": 6,
   "metadata": {},
   "outputs": [
    {
     "data": {
      "text/plain": [
       "<sqlite3.Cursor at 0x1f339b003b0>"
      ]
     },
     "execution_count": 6,
     "metadata": {},
     "output_type": "execute_result"
    }
   ],
   "source": [
    "cursor.execute(\n",
    "    '''\n",
    "    CREATE TABLE Book(\n",
    "        id INT PRIMARY KEY NOT NULL,\n",
    "        title TEXT,\n",
    "        author TEXT,\n",
    "        publish_year INT\n",
    "    )\n",
    "    '''\n",
    ")\n",
    "\n",
    "cursor.execute(\n",
    "    '''\n",
    "    INSERT INTO Book VALUES\n",
    "    (1, 'Тихий Дон', 'М.Шолохов', 1932),\n",
    "    (2, 'Два капитана', 'В.Каверин', 1944),\n",
    "    (3, 'Как закалялась сталь', 'Н.Островский', 1934),\n",
    "    (4, 'Das Kapital', 'K.Marx', 1867),\n",
    "    (5, 'The Art of Electronics', 'P.Horowitz ans W.Hill', 2015)\n",
    "    '''\n",
    ")"
   ]
  },
  {
   "cell_type": "code",
   "execution_count": 7,
   "metadata": {
    "scrolled": true
   },
   "outputs": [
    {
     "data": {
      "text/plain": [
       "[(1, 'Тихий Дон', 'М.Шолохов', 1932),\n",
       " (2, 'Два капитана', 'В.Каверин', 1944),\n",
       " (3, 'Как закалялась сталь', 'Н.Островский', 1934),\n",
       " (4, 'Das Kapital', 'K.Marx', 1867),\n",
       " (5, 'The Art of Electronics', 'P.Horowitz ans W.Hill', 2015)]"
      ]
     },
     "execution_count": 7,
     "metadata": {},
     "output_type": "execute_result"
    }
   ],
   "source": [
    "cursor.execute(\"SELECT * FROM Book;\")\n",
    "row = cursor.fetchall()\n",
    "row"
   ]
  },
  {
   "cell_type": "code",
   "execution_count": 8,
   "metadata": {},
   "outputs": [
    {
     "data": {
      "text/plain": [
       "<sqlite3.Cursor at 0x1f339b003b0>"
      ]
     },
     "execution_count": 8,
     "metadata": {},
     "output_type": "execute_result"
    }
   ],
   "source": [
    "cursor.execute(\n",
    "    '''\n",
    "    CREATE TABLE Reader(\n",
    "        id INT PRIMARY KEY NOT NULL,\n",
    "        name TEXT\n",
    "    )\n",
    "    '''\n",
    ")\n",
    "\n",
    "cursor.execute(\n",
    "    '''\n",
    "    INSERT INTO Reader VALUES\n",
    "    (1, 'Ivan'),\n",
    "    (2, 'Jose'),\n",
    "    (3, 'John'),\n",
    "    (4, 'Louise'),\n",
    "    (5, 'Frida')\n",
    "    '''\n",
    ")"
   ]
  },
  {
   "cell_type": "code",
   "execution_count": 9,
   "metadata": {},
   "outputs": [
    {
     "data": {
      "text/plain": [
       "<sqlite3.Cursor at 0x1f339b003b0>"
      ]
     },
     "execution_count": 9,
     "metadata": {},
     "output_type": "execute_result"
    }
   ],
   "source": [
    "cursor.execute(\n",
    "    '''\n",
    "    CREATE TABLE Record(\n",
    "        reader_id INT REFERENCES Reader(id) NOT NULL,\n",
    "        book_id INT REFERENCES Book(id) NOT NULL,\n",
    "        taking_date TEXT,\n",
    "        returning_date TEXT\n",
    "    )\n",
    "    '''\n",
    ")\n",
    "\n",
    "cursor.execute(\n",
    "    '''\n",
    "    INSERT INTO Record VALUES\n",
    "    (3, 4, '1872-02-14', '1872-07-01'),\n",
    "    (4, 4, '1996-10-26', NULL),\n",
    "    (1, 2, '2006-06-13', '2006-06-14'),\n",
    "    (1, 1, '2006-06-14', '2006-06-15'),\n",
    "    (1, 3, '2006-06-15', '2006-07-20'),\n",
    "    (2, 5, '2019-10-11', '2021-12-25'),\n",
    "    (5, 3, '2001-03-15', NULL),\n",
    "    (5, 3, '2002-09-19', '2002-09-25')\n",
    "    '''\n",
    ")"
   ]
  },
  {
   "cell_type": "code",
   "execution_count": 10,
   "metadata": {},
   "outputs": [],
   "source": [
    "connection.commit()\n",
    "connection.close()\n"
   ]
  },
  {
   "cell_type": "markdown",
   "metadata": {},
   "source": [
    "**1) Вывести список книг**"
   ]
  },
  {
   "cell_type": "code",
   "execution_count": 11,
   "metadata": {},
   "outputs": [
    {
     "name": "stdout",
     "output_type": "stream",
     "text": [
      "(1, 'Тихий Дон', 'М.Шолохов', 1932)\n",
      "(2, 'Два капитана', 'В.Каверин', 1944)\n",
      "(3, 'Как закалялась сталь', 'Н.Островский', 1934)\n",
      "(4, 'Das Kapital', 'K.Marx', 1867)\n",
      "(5, 'The Art of Electronics', 'P.Horowitz ans W.Hill', 2015)\n"
     ]
    }
   ],
   "source": [
    "def view_books():\n",
    "    connection = sqlite3.connect(db_name)\n",
    "    with connection:\n",
    "        rows = connection.execute(\"SELECT * FROM Book;\")\n",
    "        print(*rows.fetchall(), sep='\\n')\n",
    "\n",
    "view_books()"
   ]
  },
  {
   "cell_type": "markdown",
   "metadata": {},
   "source": [
    "**2) Вывести список читателей**"
   ]
  },
  {
   "cell_type": "code",
   "execution_count": 12,
   "metadata": {},
   "outputs": [
    {
     "name": "stdout",
     "output_type": "stream",
     "text": [
      "(1, 'Ivan')\n",
      "(2, 'Jose')\n",
      "(3, 'John')\n",
      "(4, 'Louise')\n",
      "(5, 'Frida')\n"
     ]
    }
   ],
   "source": [
    "def view_readers():\n",
    "    connection = sqlite3.connect(db_name)\n",
    "    with connection:\n",
    "        rows = connection.execute(\"SELECT * FROM Reader;\")\n",
    "        print(*rows.fetchall(), sep='\\n')\n",
    "\n",
    "view_readers()"
   ]
  },
  {
   "cell_type": "markdown",
   "metadata": {},
   "source": [
    "**3) Добавить книгу**"
   ]
  },
  {
   "cell_type": "code",
   "execution_count": 13,
   "metadata": {
    "scrolled": true
   },
   "outputs": [
    {
     "name": "stdout",
     "output_type": "stream",
     "text": [
      "(1, 'Тихий Дон', 'М.Шолохов', 1932)\n",
      "(2, 'Два капитана', 'В.Каверин', 1944)\n",
      "(3, 'Как закалялась сталь', 'Н.Островский', 1934)\n",
      "(4, 'Das Kapital', 'K.Marx', 1867)\n",
      "(5, 'The Art of Electronics', 'P.Horowitz ans W.Hill', 2015)\n",
      "(6, 'Азбука', 'А.Барто', 1950)\n"
     ]
    }
   ],
   "source": [
    "def add_book(new):\n",
    "    connection = sqlite3.connect(db_name)\n",
    "    with connection:\n",
    "        connection.execute(\"INSERT INTO Book VALUES (?, ?, ?, ?)\", new)\n",
    "\n",
    "add_book((6, 'Азбука', 'А.Барто', 1950))\n",
    "view_books()"
   ]
  },
  {
   "cell_type": "markdown",
   "metadata": {},
   "source": [
    "**4) Добавить читателя**"
   ]
  },
  {
   "cell_type": "code",
   "execution_count": 14,
   "metadata": {
    "scrolled": false
   },
   "outputs": [
    {
     "name": "stdout",
     "output_type": "stream",
     "text": [
      "(1, 'Ivan')\n",
      "(2, 'Jose')\n",
      "(3, 'John')\n",
      "(4, 'Louise')\n",
      "(5, 'Frida')\n",
      "(6, 'Mary')\n"
     ]
    }
   ],
   "source": [
    "def add_reader(new):\n",
    "    connection = sqlite3.connect(db_name)\n",
    "    with connection:\n",
    "        connection.execute(\"INSERT INTO Reader VALUES (?, ?)\", new)\n",
    "\n",
    "add_reader((6, 'Mary'))\n",
    "view_readers()"
   ]
  },
  {
   "cell_type": "markdown",
   "metadata": {},
   "source": [
    "**5) Выдать книгу читателю**"
   ]
  },
  {
   "cell_type": "code",
   "execution_count": 15,
   "metadata": {},
   "outputs": [
    {
     "name": "stdout",
     "output_type": "stream",
     "text": [
      "(3, 4, '1872-02-14', '1872-07-01')\n",
      "(4, 4, '1996-10-26', None)\n",
      "(1, 2, '2006-06-13', '2006-06-14')\n",
      "(1, 1, '2006-06-14', '2006-06-15')\n",
      "(1, 3, '2006-06-15', '2006-07-20')\n",
      "(2, 5, '2019-10-11', '2021-12-25')\n",
      "(5, 3, '2001-03-15', None)\n",
      "(5, 3, '2002-09-19', '2002-09-25')\n"
     ]
    }
   ],
   "source": [
    "def view_records():\n",
    "    connection = sqlite3.connect(db_name)\n",
    "    with connection:\n",
    "        rows = connection.execute(\"SELECT * FROM Record;\")\n",
    "        print(*rows.fetchall(), sep='\\n')\n",
    "\n",
    "view_records()"
   ]
  },
  {
   "cell_type": "code",
   "execution_count": 34,
   "metadata": {
    "scrolled": true
   },
   "outputs": [
    {
     "name": "stdout",
     "output_type": "stream",
     "text": [
      "(3, 4, '1872-02-14', '1872-07-01')\n",
      "(4, 4, '1996-10-26', None)\n",
      "(1, 2, '2006-06-13', '2006-06-14')\n",
      "(1, 1, '2006-06-14', '2006-06-15')\n",
      "(1, 3, '2006-06-15', '2006-07-20')\n",
      "(2, 5, '2019-10-11', '2021-12-25')\n",
      "(5, 3, '2001-03-15', None)\n",
      "(5, 3, '2002-09-19', '2002-09-25')\n",
      "(2, 3, '2022-03-28', 'NULL')\n"
     ]
    }
   ],
   "source": [
    "def give_book(reader, book):\n",
    "    t=datetime.datetime.now().date()\n",
    "    t.strftime('%Y-%m-%d')\n",
    "    connection = sqlite3.connect(db_name)\n",
    "    with connection:\n",
    "        connection.execute(\"INSERT INTO Record VALUES (?, ?, ?, ?)\", (reader, book, t, None))\n",
    "\n",
    "give_book(2, 3)\n",
    "view_records()"
   ]
  },
  {
   "cell_type": "code",
   "execution_count": 37,
   "metadata": {},
   "outputs": [
    {
     "name": "stdout",
     "output_type": "stream",
     "text": [
      "(3, 4, '1872-02-14', '1872-07-01')\n",
      "(4, 4, '1996-10-26', None)\n",
      "(1, 2, '2006-06-13', '2006-06-14')\n",
      "(1, 1, '2006-06-14', '2006-06-15')\n",
      "(1, 3, '2006-06-15', '2006-07-20')\n",
      "(2, 5, '2019-10-11', '2021-12-25')\n",
      "(5, 3, '2001-03-15', None)\n",
      "(5, 3, '2002-09-19', '2002-09-25')\n",
      "(5, 4, '2022-03-28', '1991')\n",
      "(5, 4, '2022-03-28', None)\n"
     ]
    }
   ],
   "source": [
    "#более продвинуто:\n",
    "def give_book_pro(reader, book):\n",
    "    t=datetime.datetime.now().date()\n",
    "    t.strftime('%Y-%m-%d')\n",
    "    connection = sqlite3.connect(db_name)\n",
    "    with connection:\n",
    "        reader_id = connection.execute(\"SELECT id FROM Reader WHERE name=\"+reader)\n",
    "        reader_id = reader_id.fetchone()[0]\n",
    "        book_id = connection.execute(\"SELECT id FROM Book WHERE title=\"+book)\n",
    "        book_id = book_id.fetchone()[0]\n",
    "        connection.execute(\"INSERT INTO Record VALUES (?, ?, ?, ?)\", (reader_id, book_id, t, None))\n",
    "\n",
    "give_book_pro(\"'Frida'\", \"'Das Kapital'\") #ATTENTION ON FORMAT!!!\n",
    "view_records()"
   ]
  },
  {
   "cell_type": "markdown",
   "metadata": {},
   "source": [
    "**6) Принять книгу**"
   ]
  },
  {
   "cell_type": "code",
   "execution_count": 39,
   "metadata": {},
   "outputs": [
    {
     "name": "stdout",
     "output_type": "stream",
     "text": [
      "(3, 4, '1872-02-14', '1872-07-01')\n",
      "(4, 4, '1996-10-26', None)\n",
      "(1, 2, '2006-06-13', '2006-06-14')\n",
      "(1, 1, '2006-06-14', '2006-06-15')\n",
      "(1, 3, '2006-06-15', '2006-07-20')\n",
      "(2, 5, '2019-10-11', '2021-12-25')\n",
      "(5, 3, '2001-03-15', None)\n",
      "(5, 3, '2002-09-19', '2002-09-25')\n",
      "(5, 4, '2022-03-28', '1991')\n",
      "(5, 4, '2022-03-28', '1991')\n"
     ]
    }
   ],
   "source": [
    "def return_book_pro(reader, book):\n",
    "    t=datetime.datetime.now().date()\n",
    "    t=t.strftime('%Y-%m-%d')\n",
    "    connection = sqlite3.connect(db_name)\n",
    "    with connection:\n",
    "        reader_id = connection.execute(\"SELECT id FROM Reader WHERE name=\"+reader)\n",
    "        reader_id = reader_id.fetchone()[0]\n",
    "        book_id = connection.execute(\"SELECT id FROM Book WHERE title=\"+book)\n",
    "        book_id = book_id.fetchone()[0]\n",
    "        strr = \"UPDATE Record SET returning_date=\" +t+ \" WHERE reader_id=\" +str(reader_id)+ \" AND book_id=\"+str(book_id)+\";\"\n",
    "        connection.execute(strr)\n",
    "\n",
    "return_book_pro(\"'Frida'\", \"'Das Kapital'\") #ATTENTION ON FORMAT!!!\n",
    "view_records()"
   ]
  },
  {
   "cell_type": "code",
   "execution_count": 35,
   "metadata": {},
   "outputs": [
    {
     "data": {
      "text/plain": [
       "'2022-03-28'"
      ]
     },
     "execution_count": 35,
     "metadata": {},
     "output_type": "execute_result"
    }
   ],
   "source": [
    "t=datetime.datetime.now().date()\n",
    "t=t.strftime('%Y-%m-%d')\n",
    "t"
   ]
  },
  {
   "cell_type": "markdown",
   "metadata": {},
   "source": [
    "Произошло какое-то недопонимание с датой, а так работает, вроде."
   ]
  }
 ],
 "metadata": {
  "kernelspec": {
   "display_name": "Python 3",
   "language": "python",
   "name": "python3"
  },
  "language_info": {
   "codemirror_mode": {
    "name": "ipython",
    "version": 3
   },
   "file_extension": ".py",
   "mimetype": "text/x-python",
   "name": "python",
   "nbconvert_exporter": "python",
   "pygments_lexer": "ipython3",
   "version": "3.7.3"
  }
 },
 "nbformat": 4,
 "nbformat_minor": 2
}
